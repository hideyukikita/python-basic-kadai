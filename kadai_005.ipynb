{
  "nbformat": 4,
  "nbformat_minor": 0,
  "metadata": {
    "colab": {
      "provenance": []
    },
    "kernelspec": {
      "name": "python3",
      "display_name": "Python 3"
    },
    "language_info": {
      "name": "python"
    }
  },
  "cells": [
    {
      "cell_type": "code",
      "execution_count": 2,
      "metadata": {
        "colab": {
          "base_uri": "https://localhost:8080/"
        },
        "id": "v6voNh-lLe9y",
        "outputId": "1372970d-4d4d-4483-8cc1-e6295eea0ad9"
      },
      "outputs": [
        {
          "output_type": "stream",
          "name": "stdout",
          "text": [
            "75.0㎠\n"
          ]
        }
      ],
      "source": [
        "# 上辺\n",
        "top_side = 10\n",
        "# 下辺\n",
        "bottom_side = 20\n",
        "# 高さ\n",
        "height = 5\n",
        "\n",
        "# 台形の面積\n",
        "trapezoid_area = (top_side + bottom_side) * height / 2\n",
        "\n",
        "# 出力\n",
        "print(f\"{trapezoid_area}㎠\")"
      ]
    }
  ]
}
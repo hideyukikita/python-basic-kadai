{
  "nbformat": 4,
  "nbformat_minor": 0,
  "metadata": {
    "colab": {
      "provenance": []
    },
    "kernelspec": {
      "name": "python3",
      "display_name": "Python 3"
    },
    "language_info": {
      "name": "python"
    }
  },
  "cells": [
    {
      "cell_type": "code",
      "execution_count": 2,
      "metadata": {
        "colab": {
          "base_uri": "https://localhost:8080/"
        },
        "id": "Eb-wr7-Ggu39",
        "outputId": "d9232823-52b2-4e5e-a751-61a1eeff5929"
      },
      "outputs": [
        {
          "output_type": "stream",
          "name": "stdout",
          "text": [
            "name: 侍太郎, age: 26\n"
          ]
        }
      ],
      "source": [
        "class Human:\n",
        "  # 属性を定義する\n",
        "  def __init__(self, name, age):\n",
        "    self.name = name\n",
        "    self.age = age\n",
        "  # 関数を定義する\n",
        "  def printinfo(self):\n",
        "    print(f\"name: {self.name}, age: {self.age}\")\n",
        "\n",
        "user = Human(\"侍太郎\", 26)\n",
        "user.printinfo()"
      ]
    }
  ]
}
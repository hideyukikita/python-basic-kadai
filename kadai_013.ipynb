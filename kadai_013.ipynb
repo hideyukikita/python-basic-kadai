{
  "nbformat": 4,
  "nbformat_minor": 0,
  "metadata": {
    "colab": {
      "provenance": []
    },
    "kernelspec": {
      "name": "python3",
      "display_name": "Python 3"
    },
    "language_info": {
      "name": "python"
    }
  },
  "cells": [
    {
      "cell_type": "code",
      "execution_count": 3,
      "metadata": {
        "colab": {
          "base_uri": "https://localhost:8080/"
        },
        "id": "Q0bkYJGRSe-d",
        "outputId": "d7714ae5-39bd-4f4d-d05e-53a818654b51"
      },
      "outputs": [
        {
          "output_type": "stream",
          "name": "stdout",
          "text": [
            "121.0\n"
          ]
        }
      ],
      "source": [
        "def calculate_consumption_tax_price(price:int, tax_rate:int) -> float:\n",
        "  return price + price * tax_rate / 100\n",
        "\n",
        "\n",
        "print(calculate_consumption_tax_price(110, 10))"
      ]
    }
  ]
}
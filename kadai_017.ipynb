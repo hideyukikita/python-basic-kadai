{
  "nbformat": 4,
  "nbformat_minor": 0,
  "metadata": {
    "colab": {
      "provenance": []
    },
    "kernelspec": {
      "name": "python3",
      "display_name": "Python 3"
    },
    "language_info": {
      "name": "python"
    }
  },
  "cells": [
    {
      "cell_type": "code",
      "execution_count": 4,
      "metadata": {
        "colab": {
          "base_uri": "https://localhost:8080/"
        },
        "id": "uyHHfS32AkIG",
        "outputId": "65b215ea-4006-4d38-8b15-9d621fc08f37"
      },
      "outputs": [
        {
          "output_type": "stream",
          "name": "stdout",
          "text": [
            "西田は大人です\n",
            "紗彩は大人ではない\n",
            "橋田は大人です\n"
          ]
        }
      ],
      "source": [
        "# Humanクラス\n",
        "class Human:\n",
        "  def __init__(self, name, age):\n",
        "    self.name = name\n",
        "    self.age = age\n",
        "\n",
        "  def check_adult(self):\n",
        "    if self.age >= 20:\n",
        "      print(f\"{self.name}は大人です\")\n",
        "    else:\n",
        "      print(f\"{self.name}は大人ではない\")\n",
        "\n",
        "# インスタンス生成\n",
        "nishida = Human(\"西田\", 20)\n",
        "saya = Human(\"紗彩\", 19)\n",
        "hashi = Human(\"橋田\", 30)\n",
        "\n",
        "# リスト作成\n",
        "humans = [nishida, saya, hashi]\n",
        "\n",
        "# メソッド呼び出し\n",
        "for human in humans:\n",
        "  human.check_adult()"
      ]
    }
  ]
}
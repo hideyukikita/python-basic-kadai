{
  "nbformat": 4,
  "nbformat_minor": 0,
  "metadata": {
    "colab": {
      "provenance": []
    },
    "kernelspec": {
      "name": "python3",
      "display_name": "Python 3"
    },
    "language_info": {
      "name": "python"
    }
  },
  "cells": [
    {
      "cell_type": "code",
      "execution_count": 1,
      "metadata": {
        "colab": {
          "base_uri": "https://localhost:8080/"
        },
        "id": "yRH4TCpRI7Hx",
        "outputId": "b59154ed-139b-4441-db08-930c43e127eb"
      },
      "outputs": [
        {
          "output_type": "stream",
          "name": "stdout",
          "text": [
            "水\n",
            "金\n",
            "地\n",
            "火\n",
            "木\n",
            "土\n",
            "天\n",
            "海\n",
            "冥\n",
            "水\n",
            "金\n",
            "地\n",
            "火\n",
            "木\n",
            "土\n",
            "天\n",
            "海\n",
            "冥\n"
          ]
        }
      ],
      "source": [
        "array = [\"水\",\"金\",\"地\",\"火\",\"木\",\"土\",\"天\",\"海\",\"冥\"]\n",
        "\n",
        "# forでのループ\n",
        "for i in array:\n",
        "  print(i)\n",
        "\n",
        "# whileでのループ\n",
        "# 要素数\n",
        "length = len(array)\n",
        "\n",
        "# 繰り返し回数\n",
        "cnt = 0\n",
        "\n",
        "while cnt <= length - 1:\n",
        "  print(array[cnt])\n",
        "  cnt += 1\n"
      ]
    }
  ]
}